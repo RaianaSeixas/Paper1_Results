{
  "nbformat": 4,
  "nbformat_minor": 0,
  "metadata": {
    "colab": {
      "name": "T_Stats_1000_Rastrigin_ALL_D_10_0.75_0.25.ipynb",
      "provenance": [],
      "collapsed_sections": [],
      "include_colab_link": true
    },
    "kernelspec": {
      "name": "python3",
      "display_name": "Python 3"
    }
  },
  "cells": [
    {
      "cell_type": "markdown",
      "metadata": {
        "id": "view-in-github",
        "colab_type": "text"
      },
      "source": [
        "<a href=\"https://colab.research.google.com/github/RaianaSeixas/Paper1_Results/blob/master/T_Stats_1000_Rastrigin_ALL_D_10_0_75_0_25.ipynb\" target=\"_parent\"><img src=\"https://colab.research.google.com/assets/colab-badge.svg\" alt=\"Open In Colab\"/></a>"
      ]
    },
    {
      "cell_type": "code",
      "metadata": {
        "id": "MC26Bm1UyUR5",
        "colab_type": "code",
        "colab": {
          "base_uri": "https://localhost:8080/",
          "height": 34
        },
        "outputId": "2cfe5164-f2a5-428d-97ba-bd37970353e9"
      },
      "source": [
        "!pip install pyade-python"
      ],
      "execution_count": 31,
      "outputs": [
        {
          "output_type": "stream",
          "text": [
            "Requirement already satisfied: pyade-python in /usr/local/lib/python3.6/dist-packages (1.1)\n"
          ],
          "name": "stdout"
        }
      ]
    },
    {
      "cell_type": "code",
      "metadata": {
        "id": "rRwqrtCmgzdZ",
        "colab_type": "code",
        "colab": {
          "base_uri": "https://localhost:8080/",
          "height": 51
        },
        "outputId": "bd9b05f5-d54c-48c6-a808-94012f81de5b"
      },
      "source": [
        "!pip install PyFDE"
      ],
      "execution_count": 32,
      "outputs": [
        {
          "output_type": "stream",
          "text": [
            "Requirement already satisfied: PyFDE in /usr/local/lib/python3.6/dist-packages (1.3.0)\n",
            "Requirement already satisfied: numpy in /usr/local/lib/python3.6/dist-packages (from PyFDE) (1.18.5)\n"
          ],
          "name": "stdout"
        }
      ]
    },
    {
      "cell_type": "code",
      "metadata": {
        "id": "anFukot-ypn6",
        "colab_type": "code",
        "colab": {}
      },
      "source": [
        "import pyade.ilshade \n",
        "import pyade.sade \n",
        "import pyade.jso\n",
        "import pyade.shade\n",
        "import pyade.jade \n",
        "import pyfde\n",
        "import numpy as np\n",
        "import pandas as pd\n",
        "import time"
      ],
      "execution_count": 33,
      "outputs": []
    },
    {
      "cell_type": "code",
      "metadata": {
        "id": "6Oh714_-z1Ia",
        "colab_type": "code",
        "colab": {
          "base_uri": "https://localhost:8080/",
          "height": 153
        },
        "outputId": "2961e9c5-a2ad-4660-8e16-ae127d7e1cb9"
      },
      "source": [
        "!git clone https://github.com/ucfilho/Raianars_July_2020 #clonar do Github\n",
        "%cd Raianars_July_2020"
      ],
      "execution_count": 34,
      "outputs": [
        {
          "output_type": "stream",
          "text": [
            "Cloning into 'Raianars_July_2020'...\n",
            "remote: Enumerating objects: 100, done.\u001b[K\n",
            "remote: Counting objects:   1% (1/100)\u001b[K\rremote: Counting objects:   2% (2/100)\u001b[K\rremote: Counting objects:   3% (3/100)\u001b[K\rremote: Counting objects:   4% (4/100)\u001b[K\rremote: Counting objects:   5% (5/100)\u001b[K\rremote: Counting objects:   6% (6/100)\u001b[K\rremote: Counting objects:   7% (7/100)\u001b[K\rremote: Counting objects:   8% (8/100)\u001b[K\rremote: Counting objects:   9% (9/100)\u001b[K\rremote: Counting objects:  10% (10/100)\u001b[K\rremote: Counting objects:  11% (11/100)\u001b[K\rremote: Counting objects:  12% (12/100)\u001b[K\rremote: Counting objects:  13% (13/100)\u001b[K\rremote: Counting objects:  14% (14/100)\u001b[K\rremote: Counting objects:  15% (15/100)\u001b[K\rremote: Counting objects:  16% (16/100)\u001b[K\rremote: Counting objects:  17% (17/100)\u001b[K\rremote: Counting objects:  18% (18/100)\u001b[K\rremote: Counting objects:  19% (19/100)\u001b[K\rremote: Counting objects:  20% (20/100)\u001b[K\rremote: Counting objects:  21% (21/100)\u001b[K\rremote: Counting objects:  22% (22/100)\u001b[K\rremote: Counting objects:  23% (23/100)\u001b[K\rremote: Counting objects:  24% (24/100)\u001b[K\rremote: Counting objects:  25% (25/100)\u001b[K\rremote: Counting objects:  26% (26/100)\u001b[K\rremote: Counting objects:  27% (27/100)\u001b[K\rremote: Counting objects:  28% (28/100)\u001b[K\rremote: Counting objects:  29% (29/100)\u001b[K\rremote: Counting objects:  30% (30/100)\u001b[K\rremote: Counting objects:  31% (31/100)\u001b[K\rremote: Counting objects:  32% (32/100)\u001b[K\rremote: Counting objects:  33% (33/100)\u001b[K\rremote: Counting objects:  34% (34/100)\u001b[K\rremote: Counting objects:  35% (35/100)\u001b[K\rremote: Counting objects:  36% (36/100)\u001b[K\rremote: Counting objects:  37% (37/100)\u001b[K\rremote: Counting objects:  38% (38/100)\u001b[K\rremote: Counting objects:  39% (39/100)\u001b[K\rremote: Counting objects:  40% (40/100)\u001b[K\rremote: Counting objects:  41% (41/100)\u001b[K\rremote: Counting objects:  42% (42/100)\u001b[K\rremote: Counting objects:  43% (43/100)\u001b[K\rremote: Counting objects:  44% (44/100)\u001b[K\rremote: Counting objects:  45% (45/100)\u001b[K\rremote: Counting objects:  46% (46/100)\u001b[K\rremote: Counting objects:  47% (47/100)\u001b[K\rremote: Counting objects:  48% (48/100)\u001b[K\rremote: Counting objects:  49% (49/100)\u001b[K\rremote: Counting objects:  50% (50/100)\u001b[K\rremote: Counting objects:  51% (51/100)\u001b[K\rremote: Counting objects:  52% (52/100)\u001b[K\rremote: Counting objects:  53% (53/100)\u001b[K\rremote: Counting objects:  54% (54/100)\u001b[K\rremote: Counting objects:  55% (55/100)\u001b[K\rremote: Counting objects:  56% (56/100)\u001b[K\rremote: Counting objects:  57% (57/100)\u001b[K\rremote: Counting objects:  58% (58/100)\u001b[K\rremote: Counting objects:  59% (59/100)\u001b[K\rremote: Counting objects:  60% (60/100)\u001b[K\rremote: Counting objects:  61% (61/100)\u001b[K\rremote: Counting objects:  62% (62/100)\u001b[K\rremote: Counting objects:  63% (63/100)\u001b[K\rremote: Counting objects:  64% (64/100)\u001b[K\rremote: Counting objects:  65% (65/100)\u001b[K\rremote: Counting objects:  66% (66/100)\u001b[K\rremote: Counting objects:  67% (67/100)\u001b[K\rremote: Counting objects:  68% (68/100)\u001b[K\rremote: Counting objects:  69% (69/100)\u001b[K\rremote: Counting objects:  70% (70/100)\u001b[K\rremote: Counting objects:  71% (71/100)\u001b[K\rremote: Counting objects:  72% (72/100)\u001b[K\rremote: Counting objects:  73% (73/100)\u001b[K\rremote: Counting objects:  74% (74/100)\u001b[K\rremote: Counting objects:  75% (75/100)\u001b[K\rremote: Counting objects:  76% (76/100)\u001b[K\rremote: Counting objects:  77% (77/100)\u001b[K\rremote: Counting objects:  78% (78/100)\u001b[K\rremote: Counting objects:  79% (79/100)\u001b[K\rremote: Counting objects:  80% (80/100)\u001b[K\rremote: Counting objects:  81% (81/100)\u001b[K\rremote: Counting objects:  82% (82/100)\u001b[K\rremote: Counting objects:  83% (83/100)\u001b[K\rremote: Counting objects:  84% (84/100)\u001b[K\rremote: Counting objects:  85% (85/100)\u001b[K\rremote: Counting objects:  86% (86/100)\u001b[K\rremote: Counting objects:  87% (87/100)\u001b[K\rremote: Counting objects:  88% (88/100)\u001b[K\rremote: Counting objects:  89% (89/100)\u001b[K\rremote: Counting objects:  90% (90/100)\u001b[K\rremote: Counting objects:  91% (91/100)\u001b[K\rremote: Counting objects:  92% (92/100)\u001b[K\rremote: Counting objects:  93% (93/100)\u001b[K\rremote: Counting objects:  94% (94/100)\u001b[K\rremote: Counting objects:  95% (95/100)\u001b[K\rremote: Counting objects:  96% (96/100)\u001b[K\rremote: Counting objects:  97% (97/100)\u001b[K\rremote: Counting objects:  98% (98/100)\u001b[K\rremote: Counting objects:  99% (99/100)\u001b[K\rremote: Counting objects: 100% (100/100)\u001b[K\rremote: Counting objects: 100% (100/100), done.\u001b[K\n",
            "remote: Compressing objects:   1% (1/98)\u001b[K\rremote: Compressing objects:   2% (2/98)\u001b[K\rremote: Compressing objects:   3% (3/98)\u001b[K\rremote: Compressing objects:   4% (4/98)\u001b[K\rremote: Compressing objects:   5% (5/98)\u001b[K\rremote: Compressing objects:   6% (6/98)\u001b[K\rremote: Compressing objects:   7% (7/98)\u001b[K\rremote: Compressing objects:   8% (8/98)\u001b[K\rremote: Compressing objects:   9% (9/98)\u001b[K\rremote: Compressing objects:  10% (10/98)\u001b[K\rremote: Compressing objects:  11% (11/98)\u001b[K\rremote: Compressing objects:  12% (12/98)\u001b[K\rremote: Compressing objects:  13% (13/98)\u001b[K\rremote: Compressing objects:  14% (14/98)\u001b[K\rremote: Compressing objects:  15% (15/98)\u001b[K\rremote: Compressing objects:  16% (16/98)\u001b[K\rremote: Compressing objects:  17% (17/98)\u001b[K\rremote: Compressing objects:  18% (18/98)\u001b[K\rremote: Compressing objects:  19% (19/98)\u001b[K\rremote: Compressing objects:  20% (20/98)\u001b[K\rremote: Compressing objects:  21% (21/98)\u001b[K\rremote: Compressing objects:  22% (22/98)\u001b[K\rremote: Compressing objects:  23% (23/98)\u001b[K\rremote: Compressing objects:  24% (24/98)\u001b[K\rremote: Compressing objects:  25% (25/98)\u001b[K\rremote: Compressing objects:  26% (26/98)\u001b[K\rremote: Compressing objects:  27% (27/98)\u001b[K\rremote: Compressing objects:  28% (28/98)\u001b[K\rremote: Compressing objects:  29% (29/98)\u001b[K\rremote: Compressing objects:  30% (30/98)\u001b[K\rremote: Compressing objects:  31% (31/98)\u001b[K\rremote: Compressing objects:  32% (32/98)\u001b[K\rremote: Compressing objects:  33% (33/98)\u001b[K\rremote: Compressing objects:  34% (34/98)\u001b[K\rremote: Compressing objects:  35% (35/98)\u001b[K\rremote: Compressing objects:  36% (36/98)\u001b[K\rremote: Compressing objects:  37% (37/98)\u001b[K\rremote: Compressing objects:  38% (38/98)\u001b[K\rremote: Compressing objects:  39% (39/98)\u001b[K\rremote: Compressing objects:  40% (40/98)\u001b[K\rremote: Compressing objects:  41% (41/98)\u001b[K\rremote: Compressing objects:  42% (42/98)\u001b[K\rremote: Compressing objects:  43% (43/98)\u001b[K\rremote: Compressing objects:  44% (44/98)\u001b[K\rremote: Compressing objects:  45% (45/98)\u001b[K\rremote: Compressing objects:  46% (46/98)\u001b[K\rremote: Compressing objects:  47% (47/98)\u001b[K\rremote: Compressing objects:  48% (48/98)\u001b[K\rremote: Compressing objects:  50% (49/98)\u001b[K\rremote: Compressing objects:  51% (50/98)\u001b[K\rremote: Compressing objects:  52% (51/98)\u001b[K\rremote: Compressing objects:  53% (52/98)\u001b[K\rremote: Compressing objects:  54% (53/98)\u001b[K\rremote: Compressing objects:  55% (54/98)\u001b[K\rremote: Compressing objects:  56% (55/98)\u001b[K\rremote: Compressing objects:  57% (56/98)\u001b[K\rremote: Compressing objects:  58% (57/98)\u001b[K\rremote: Compressing objects:  59% (58/98)\u001b[K\rremote: Compressing objects:  60% (59/98)\u001b[K\rremote: Compressing objects:  61% (60/98)\u001b[K\rremote: Compressing objects:  62% (61/98)\u001b[K\rremote: Compressing objects:  63% (62/98)\u001b[K\rremote: Compressing objects:  64% (63/98)\u001b[K\rremote: Compressing objects:  65% (64/98)\u001b[K\rremote: Compressing objects:  66% (65/98)\u001b[K\rremote: Compressing objects:  67% (66/98)\u001b[K\rremote: Compressing objects:  68% (67/98)\u001b[K\rremote: Compressing objects:  69% (68/98)\u001b[K\rremote: Compressing objects:  70% (69/98)\u001b[K\rremote: Compressing objects:  71% (70/98)\u001b[K\rremote: Compressing objects:  72% (71/98)\u001b[K\rremote: Compressing objects:  73% (72/98)\u001b[K\rremote: Compressing objects:  74% (73/98)\u001b[K\rremote: Compressing objects:  75% (74/98)\u001b[K\rremote: Compressing objects:  76% (75/98)\u001b[K\rremote: Compressing objects:  77% (76/98)\u001b[K\rremote: Compressing objects:  78% (77/98)\u001b[K\rremote: Compressing objects:  79% (78/98)\u001b[K\rremote: Compressing objects:  80% (79/98)\u001b[K\rremote: Compressing objects:  81% (80/98)\u001b[K\rremote: Compressing objects:  82% (81/98)\u001b[K\rremote: Compressing objects:  83% (82/98)\u001b[K\rremote: Compressing objects:  84% (83/98)\u001b[K\rremote: Compressing objects:  85% (84/98)\u001b[K\rremote: Compressing objects:  86% (85/98)\u001b[K\rremote: Compressing objects:  87% (86/98)\u001b[K\rremote: Compressing objects:  88% (87/98)\u001b[K\rremote: Compressing objects:  89% (88/98)\u001b[K\rremote: Compressing objects:  90% (89/98)\u001b[K\rremote: Compressing objects:  91% (90/98)\u001b[K\rremote: Compressing objects:  92% (91/98)\u001b[K\rremote: Compressing objects:  93% (92/98)\u001b[K\rremote: Compressing objects:  94% (93/98)\u001b[K\rremote: Compressing objects:  95% (94/98)\u001b[K\rremote: Compressing objects:  96% (95/98)\u001b[K\rremote: Compressing objects:  97% (96/98)\u001b[K\rremote: Compressing objects:  98% (97/98)\u001b[K\rremote: Compressing objects: 100% (98/98)\u001b[K\rremote: Compressing objects: 100% (98/98), done.\u001b[K\n",
            "Receiving objects:   1% (1/100)   \rReceiving objects:   2% (2/100)   \rReceiving objects:   3% (3/100)   \rReceiving objects:   4% (4/100)   \rReceiving objects:   5% (5/100)   \rReceiving objects:   6% (6/100)   \rReceiving objects:   7% (7/100)   \rReceiving objects:   8% (8/100)   \rReceiving objects:   9% (9/100)   \rReceiving objects:  10% (10/100)   \rReceiving objects:  11% (11/100)   \rReceiving objects:  12% (12/100)   \rReceiving objects:  13% (13/100)   \rReceiving objects:  14% (14/100)   \rReceiving objects:  15% (15/100)   \rReceiving objects:  16% (16/100)   \rReceiving objects:  17% (17/100)   \rReceiving objects:  18% (18/100)   \rReceiving objects:  19% (19/100)   \rReceiving objects:  20% (20/100)   \rReceiving objects:  21% (21/100)   \rReceiving objects:  22% (22/100)   \rReceiving objects:  23% (23/100)   \rReceiving objects:  24% (24/100)   \rReceiving objects:  25% (25/100)   \rReceiving objects:  26% (26/100)   \rReceiving objects:  27% (27/100)   \rReceiving objects:  28% (28/100)   \rReceiving objects:  29% (29/100)   \rReceiving objects:  30% (30/100)   \rReceiving objects:  31% (31/100)   \rReceiving objects:  32% (32/100)   \rReceiving objects:  33% (33/100)   \rReceiving objects:  34% (34/100)   \rReceiving objects:  35% (35/100)   \rReceiving objects:  36% (36/100)   \rReceiving objects:  37% (37/100)   \rReceiving objects:  38% (38/100)   \rReceiving objects:  39% (39/100)   \rReceiving objects:  40% (40/100)   \rReceiving objects:  41% (41/100)   \rremote: Total 100 (delta 48), reused 0 (delta 0), pack-reused 0\u001b[K\n",
            "Receiving objects:  42% (42/100)   \rReceiving objects:  43% (43/100)   \rReceiving objects:  44% (44/100)   \rReceiving objects:  45% (45/100)   \rReceiving objects:  46% (46/100)   \rReceiving objects:  47% (47/100)   \rReceiving objects:  48% (48/100)   \rReceiving objects:  49% (49/100)   \rReceiving objects:  50% (50/100)   \rReceiving objects:  51% (51/100)   \rReceiving objects:  52% (52/100)   \rReceiving objects:  53% (53/100)   \rReceiving objects:  54% (54/100)   \rReceiving objects:  55% (55/100)   \rReceiving objects:  56% (56/100)   \rReceiving objects:  57% (57/100)   \rReceiving objects:  58% (58/100)   \rReceiving objects:  59% (59/100)   \rReceiving objects:  60% (60/100)   \rReceiving objects:  61% (61/100)   \rReceiving objects:  62% (62/100)   \rReceiving objects:  63% (63/100)   \rReceiving objects:  64% (64/100)   \rReceiving objects:  65% (65/100)   \rReceiving objects:  66% (66/100)   \rReceiving objects:  67% (67/100)   \rReceiving objects:  68% (68/100)   \rReceiving objects:  69% (69/100)   \rReceiving objects:  70% (70/100)   \rReceiving objects:  71% (71/100)   \rReceiving objects:  72% (72/100)   \rReceiving objects:  73% (73/100)   \rReceiving objects:  74% (74/100)   \rReceiving objects:  75% (75/100)   \rReceiving objects:  76% (76/100)   \rReceiving objects:  77% (77/100)   \rReceiving objects:  78% (78/100)   \rReceiving objects:  79% (79/100)   \rReceiving objects:  80% (80/100)   \rReceiving objects:  81% (81/100)   \rReceiving objects:  82% (82/100)   \rReceiving objects:  83% (83/100)   \rReceiving objects:  84% (84/100)   \rReceiving objects:  85% (85/100)   \rReceiving objects:  86% (86/100)   \rReceiving objects:  87% (87/100)   \rReceiving objects:  88% (88/100)   \rReceiving objects:  89% (89/100)   \rReceiving objects:  90% (90/100)   \rReceiving objects:  91% (91/100)   \rReceiving objects:  92% (92/100)   \rReceiving objects:  93% (93/100)   \rReceiving objects:  94% (94/100)   \rReceiving objects:  95% (95/100)   \rReceiving objects:  96% (96/100)   \rReceiving objects:  97% (97/100)   \rReceiving objects:  98% (98/100)   \rReceiving objects:  99% (99/100)   \rReceiving objects: 100% (100/100)   \rReceiving objects: 100% (100/100), 185.48 KiB | 2.73 MiB/s, done.\n",
            "Resolving deltas:   0% (0/48)   \rResolving deltas:  64% (31/48)   \rResolving deltas:  83% (40/48)   \rResolving deltas:  85% (41/48)   \rResolving deltas:  87% (42/48)   \rResolving deltas:  91% (44/48)   \rResolving deltas: 100% (48/48)   \rResolving deltas: 100% (48/48), done.\n",
            "/content/Raianars_July_2020/ANN_read_matrix/Raianars_July_2020/ANN_read_matrix/Raianars_July_2020\n"
          ],
          "name": "stdout"
        }
      ]
    },
    {
      "cell_type": "code",
      "metadata": {
        "id": "LnzftXkky78A",
        "colab_type": "code",
        "colab": {}
      },
      "source": [
        "import Go2Ann\n",
        "import de_soma_Insight\n",
        "import de_bounds_matriz\n",
        "from AvaliaX import AvaliaX\n",
        "from GeraIndices import GeraIndices"
      ],
      "execution_count": 35,
      "outputs": []
    },
    {
      "cell_type": "code",
      "metadata": {
        "id": "HNW92728z7fR",
        "colab_type": "code",
        "colab": {}
      },
      "source": [
        "import Function\n",
        "import Go2MinMax"
      ],
      "execution_count": 36,
      "outputs": []
    },
    {
      "cell_type": "code",
      "metadata": {
        "id": "T_C-e7aH0CZH",
        "colab_type": "code",
        "colab": {}
      },
      "source": [
        "ITE=1000 #10 # PONTOS quantas vezes vai alteral NPAR \n",
        "NPAR=100 # NUMBER OF PARTICLES\n",
        "dim=10\n",
        "RUNS=5\n",
        "fchoice='Rastrigin'  #MS\n",
        "Fun=Function.Rastrigin\n",
        "\n",
        "MIN,MAX=Go2MinMax.Intervalo(dim,fchoice)\n",
        "bounds = [(0,0)]*dim\n",
        "\n",
        "for i in range(dim):\n",
        "  bounds[i] = (MIN[i],MAX[i])"
      ],
      "execution_count": 37,
      "outputs": []
    },
    {
      "cell_type": "code",
      "metadata": {
        "id": "Nqv5qp9yzQEw",
        "colab_type": "code",
        "colab": {}
      },
      "source": [
        "############################### INPUT INFORMATION (FRANNK)\n",
        "Fc=0.1 # fator de correcao parametros da ANN\n",
        "its=1 #10 # quantas vezes vai usar o NPAR antes de alterar de novo\n",
        "mut=0.5\n",
        "crossp=0.5\n",
        "Fi=mut;CRi=crossp;# para impressão\n",
        "PAR=len(MAX) #NUM DE PARAMETROS A SER OTIMIZADOS"
      ],
      "execution_count": 38,
      "outputs": []
    },
    {
      "cell_type": "code",
      "metadata": {
        "id": "WkbM98uny0QY",
        "colab_type": "code",
        "colab": {
          "base_uri": "https://localhost:8080/",
          "height": 221
        },
        "outputId": "5a1a5f61-3e8d-40a6-f0a7-ce758f99f63c"
      },
      "source": [
        "# IL-Shade\n",
        "\n",
        "BEST_AGENTS=[]\n",
        "start_time = time.time() \n",
        "for i in range(RUNS):\n",
        "  ANSWER_AGENTS=[]\n",
        "  algorithm = pyade.ilshade \n",
        "  params = algorithm.get_default_params(dim=dim) \n",
        "  params['bounds'] = np.array(bounds)\n",
        "  params['max_evals'] = ITE \n",
        "  params['func'] = Fun\n",
        "  params['max_evals'] = ITE\n",
        "  best, fit = algorithm.apply(**params)\n",
        "  for x in best:\n",
        "    ANSWER_AGENTS.append(x)\n",
        "  ANSWER_AGENTS.append(fit)\n",
        "  BEST_AGENTS.append(ANSWER_AGENTS)\n",
        "BEST_AGENTS=np.array(BEST_AGENTS)\n",
        "TIME = (time.time() - start_time)/RUNS\n",
        "BEST_AGENTS=np.array(BEST_AGENTS)\n",
        "BEST_AGENTS_ST= BEST_AGENTS[BEST_AGENTS[:,-1].argsort()]\n",
        "BEST=BEST_AGENTS_ST[0]\n",
        "WORSE=BEST_AGENTS_ST[-1]\n",
        "MEAN=np.mean(BEST_AGENTS,axis=0)\n",
        "MAXFO=BEST_AGENTS[:,-1].max()\n",
        "MINFO=BEST_AGENTS[:,-1].min()\n",
        "STD=BEST_AGENTS[:,-1].std()\n",
        "nome='IL-Shade_Fo-'+str(0)+'_CRo-'+str(0)\n",
        "print(nome,'NPAR',NPAR,'Iterações=',ITE,'Dim=',dim ,\"Min/Max=\",MIN[0],\"/\",MAX[0],'_',Fun.__name__)\n",
        "print( '\\n')\n",
        "print('MÉDIA: ',MEAN[-1])\n",
        "print('MIN __:',MINFO)\n",
        "print('MAX__: ',MAXFO)\n",
        "print('STD __:',STD)\n",
        "print(\"Tempo Médio= %.3f segundos ---\" % (TIME))\n",
        "print(RUNS,'Rodadas') \n",
        "print()\n",
        "print('BEST: ',BEST)"
      ],
      "execution_count": 39,
      "outputs": [
        {
          "output_type": "stream",
          "text": [
            "IL-Shade_Fo-0_CRo-0 NPAR 100 Iterações= 1000 Dim= 10 Min/Max= -5.12 / 5.12 _ Rastrigin\n",
            "\n",
            "\n",
            "MÉDIA:  31.387967976089772\n",
            "MIN __: 20.385016736166577\n",
            "MAX__:  35.46562416819877\n",
            "STD __: 5.5975255931357335\n",
            "Tempo Médio= 0.121 segundos ---\n",
            "5 Rodadas\n",
            "\n",
            "BEST:  [-0.21674471  0.93304593 -0.09237243  1.98494444  1.03586122  1.01174776\n",
            " -0.02271075  0.04298512  1.0102208   1.0233592  20.38501674]\n"
          ],
          "name": "stdout"
        }
      ]
    },
    {
      "cell_type": "code",
      "metadata": {
        "id": "v4dbY4tSsFMb",
        "colab_type": "code",
        "colab": {
          "base_uri": "https://localhost:8080/",
          "height": 238
        },
        "outputId": "f3b330c9-a57a-47ed-ab6e-a095c6ed1800"
      },
      "source": [
        "# Jso\n",
        "\n",
        "BEST_AGENTS=[]\n",
        "start_time = time.time() \n",
        "for i in range(RUNS):\n",
        "  ANSWER_AGENTS=[]\n",
        "  algorithm = pyade.jso\n",
        "  params = algorithm.get_default_params(dim=dim) \n",
        "  params['bounds'] = np.array(bounds)\n",
        "  params['max_evals'] = ITE \n",
        "  params['func'] = Fun\n",
        "  best, fit = algorithm.apply(**params)\n",
        "  for x in best:\n",
        "    ANSWER_AGENTS.append(x)\n",
        "  ANSWER_AGENTS.append(fit)\n",
        "  BEST_AGENTS.append(ANSWER_AGENTS)\n",
        "BEST_AGENTS=np.array(BEST_AGENTS)\n",
        "TIME = (time.time() - start_time)/RUNS\n",
        "BEST_AGENTS=np.array(BEST_AGENTS)\n",
        "BEST_AGENTS_ST= BEST_AGENTS[BEST_AGENTS[:,-1].argsort()]\n",
        "BEST=BEST_AGENTS_ST[0]\n",
        "WORSE=BEST_AGENTS_ST[-1]\n",
        "MEAN=np.mean(BEST_AGENTS,axis=0)\n",
        "MAXFO=BEST_AGENTS[:,-1].max()\n",
        "MINFO=BEST_AGENTS[:,-1].min()\n",
        "STD=BEST_AGENTS[:,-1].std()\n",
        "nome='Jso-'+str(0)+'_CRo-'+str(0)\n",
        "print(nome,'NPAR',NPAR,'Iterações=',ITE,'Dim=',dim ,\"Min/Max=\",MIN[0],\"/\",MAX[0],'_',Fun.__name__)\n",
        "print( '\\n')\n",
        "print('MÉDIA: ',MEAN[-1])\n",
        "print('MIN __:',MINFO)\n",
        "print('MAX__: ',MAXFO)\n",
        "print('STD __:',STD)\n",
        "print(\"Tempo Médio= %.3f segundos ---\" % (TIME))\n",
        "print(RUNS,'Rodadas') \n",
        "print()\n",
        "print('BEST: ',BEST)"
      ],
      "execution_count": 40,
      "outputs": [
        {
          "output_type": "stream",
          "text": [
            "Jso-0_CRo-0 NPAR 100 Iterações= 1000 Dim= 10 Min/Max= -5.12 / 5.12 _ Rastrigin\n",
            "\n",
            "\n",
            "MÉDIA:  36.02303840392118\n",
            "MIN __: 32.93151803990453\n",
            "MAX__:  38.396826769239674\n",
            "STD __: 1.94355977409917\n",
            "Tempo Médio= 0.086 segundos ---\n",
            "5 Rodadas\n",
            "\n",
            "BEST:  [-1.03007089e+00 -8.53616800e-02  9.84047388e-02  1.47964865e-02\n",
            " -1.24147328e+00  2.29410611e-01  4.71793184e-02 -9.68604570e-01\n",
            " -8.08893442e-01  2.28852313e-05  3.29315180e+01]\n"
          ],
          "name": "stdout"
        }
      ]
    },
    {
      "cell_type": "code",
      "metadata": {
        "id": "ZkV_dpDa14C8",
        "colab_type": "code",
        "colab": {
          "base_uri": "https://localhost:8080/",
          "height": 221
        },
        "outputId": "f7d23107-ab96-4532-8211-d65fda88cbdd"
      },
      "source": [
        "# Sade\n",
        "\n",
        "BEST_AGENTS=[]\n",
        "start_time = time.time() \n",
        "for i in range(RUNS):\n",
        "  ANSWER_AGENTS=[]\n",
        "  algorithm = pyade.sade\n",
        "  params = algorithm.get_default_params(dim=dim) \n",
        "  params['bounds'] = np.array(bounds)\n",
        "  params['max_evals'] = ITE \n",
        "  params['func'] = Fun\n",
        "  best, fit = algorithm.apply(**params)\n",
        "  for x in best:\n",
        "    ANSWER_AGENTS.append(x)\n",
        "  ANSWER_AGENTS.append(fit)\n",
        "  BEST_AGENTS.append(ANSWER_AGENTS)\n",
        "BEST_AGENTS=np.array(BEST_AGENTS)\n",
        "TIME = (time.time() - start_time)/RUNS\n",
        "BEST_AGENTS=np.array(BEST_AGENTS)\n",
        "BEST_AGENTS_ST= BEST_AGENTS[BEST_AGENTS[:,-1].argsort()]\n",
        "BEST=BEST_AGENTS_ST[0]\n",
        "WORSE=BEST_AGENTS_ST[-1]\n",
        "MEAN=np.mean(BEST_AGENTS,axis=0)\n",
        "MAXFO=BEST_AGENTS[:,-1].max()\n",
        "MINFO=BEST_AGENTS[:,-1].min()\n",
        "STD=BEST_AGENTS[:,-1].std()\n",
        "nome='Sade_Fo-'+str(0)+'_CRo-'+str(0)\n",
        "print(nome,'NPAR',NPAR,'Iterações=',ITE,'Dim=',dim ,\"Min/Max=\",MIN[0],\"/\",MAX[0],'_',Fun.__name__)\n",
        "print( '\\n')\n",
        "print('MÉDIA: ',MEAN[-1])\n",
        "print('MIN __:',MINFO)\n",
        "print('MAX__: ',MAXFO)\n",
        "print('STD __:',STD)\n",
        "print(\"Tempo Médio= %.3f segundos ---\" % (TIME))\n",
        "print(RUNS,'Rodadas') \n",
        "print()\n",
        "print('BEST: ',BEST)"
      ],
      "execution_count": 41,
      "outputs": [
        {
          "output_type": "stream",
          "text": [
            "Sade_Fo-0_CRo-0 NPAR 100 Iterações= 1000 Dim= 10 Min/Max= -5.12 / 5.12 _ Rastrigin\n",
            "\n",
            "\n",
            "MÉDIA:  36.09039979566761\n",
            "MIN __: 32.60120542549528\n",
            "MAX__:  44.22208683905815\n",
            "STD __: 4.197822553625582\n",
            "Tempo Médio= 0.081 segundos ---\n",
            "5 Rodadas\n",
            "\n",
            "BEST:  [ 0.07762221 -0.9391763   0.12947151 -0.91804436  0.7407163  -0.06009434\n",
            "  0.96545373 -0.87765629 -0.16106313 -0.88641169 32.60120543]\n"
          ],
          "name": "stdout"
        }
      ]
    },
    {
      "cell_type": "code",
      "metadata": {
        "id": "q77YsFa82zFU",
        "colab_type": "code",
        "colab": {
          "base_uri": "https://localhost:8080/",
          "height": 238
        },
        "outputId": "08bfe877-ddf6-475a-c265-5df9e4b3cc7e"
      },
      "source": [
        "# JADE\n",
        "algorithm = pyade.jso\n",
        "BEST_AGENTS=[]\n",
        "for i in range(RUNS):\n",
        "  ANSWER_AGENTS=[]\n",
        "  solver = pyfde.JADE(Fun, n_dim=dim, n_pop=NPAR, limits=bounds, minimize=True)\n",
        "  solver.p = 0.05\n",
        "  solver.c = 0.1\n",
        "  solver.cr = 0.5\n",
        "  solver.f = 0.5\n",
        "  best, fit = solver.run(n_it=ITE)\n",
        "  for x in best:\n",
        "    ANSWER_AGENTS.append(x)\n",
        "  ANSWER_AGENTS.append(fit)\n",
        "  BEST_AGENTS.append(ANSWER_AGENTS)\n",
        "BEST_AGENTS=np.array(BEST_AGENTS)\n",
        "TIME = (time.time() - start_time)/RUNS\n",
        "BEST_AGENTS=np.array(BEST_AGENTS)\n",
        "BEST_AGENTS_ST= BEST_AGENTS[BEST_AGENTS[:,-1].argsort()]\n",
        "BEST=BEST_AGENTS_ST[0]\n",
        "WORSE=BEST_AGENTS_ST[-1]\n",
        "MEAN=np.mean(BEST_AGENTS,axis=0)\n",
        "MAXFO=BEST_AGENTS[:,-1].max()\n",
        "MINFO=BEST_AGENTS[:,-1].min()\n",
        "STD=BEST_AGENTS[:,-1].std()\n",
        "nome='JADE_Fo-'+str(0)+'_CRo-'+str(0)\n",
        "print(nome,'NPAR',NPAR,'Iterações=',ITE,'Dim=',dim ,\"Min/Max=\",MIN[0],\"/\",MAX[0],'_',Fun.__name__)\n",
        "print( '\\n')\n",
        "print('MÉDIA: ',MEAN[-1])\n",
        "print('MIN __:',MINFO)\n",
        "print('MAX__: ',MAXFO)\n",
        "print('STD __:',STD)\n",
        "print(\"Tempo Médio= %.3f segundos ---\" % (TIME))\n",
        "print(RUNS,'Rodadas') \n",
        "print()\n",
        "print('BEST: ',BEST)"
      ],
      "execution_count": 42,
      "outputs": [
        {
          "output_type": "stream",
          "text": [
            "JADE_Fo-0_CRo-0 NPAR 100 Iterações= 1000 Dim= 10 Min/Max= -5.12 / 5.12 _ Rastrigin\n",
            "\n",
            "\n",
            "MÉDIA:  0.0\n",
            "MIN __: -0.0\n",
            "MAX__:  -0.0\n",
            "STD __: 0.0\n",
            "Tempo Médio= 4.027 segundos ---\n",
            "5 Rodadas\n",
            "\n",
            "BEST:  [-4.44891338e-10 -1.47375956e-09 -8.88289150e-10  3.30898354e-09\n",
            "  6.03743613e-09 -3.44457514e-09 -1.30880361e-09  4.34549298e-09\n",
            "  2.09207783e-09 -6.21496072e-09 -0.00000000e+00]\n"
          ],
          "name": "stdout"
        }
      ]
    },
    {
      "cell_type": "code",
      "metadata": {
        "id": "gXdUgSStzppX",
        "colab_type": "code",
        "colab": {}
      },
      "source": [
        "# FRANNK START HERE !!!!!"
      ],
      "execution_count": 43,
      "outputs": []
    },
    {
      "cell_type": "code",
      "metadata": {
        "id": "raWOfeJBztuj",
        "colab_type": "code",
        "colab": {
          "base_uri": "https://localhost:8080/",
          "height": 136
        },
        "outputId": "555a4db2-3a77-40ee-d536-1b91f5ca0207"
      },
      "source": [
        "!git clone https://github.com/ucfilho/ANN_read_matrix #clonar do Github\n",
        "%cd ANN_read_matrix"
      ],
      "execution_count": 44,
      "outputs": [
        {
          "output_type": "stream",
          "text": [
            "Cloning into 'ANN_read_matrix'...\n",
            "remote: Enumerating objects: 20, done.\u001b[K\n",
            "remote: Counting objects:   5% (1/20)\u001b[K\rremote: Counting objects:  10% (2/20)\u001b[K\rremote: Counting objects:  15% (3/20)\u001b[K\rremote: Counting objects:  20% (4/20)\u001b[K\rremote: Counting objects:  25% (5/20)\u001b[K\rremote: Counting objects:  30% (6/20)\u001b[K\rremote: Counting objects:  35% (7/20)\u001b[K\rremote: Counting objects:  40% (8/20)\u001b[K\rremote: Counting objects:  45% (9/20)\u001b[K\rremote: Counting objects:  50% (10/20)\u001b[K\rremote: Counting objects:  55% (11/20)\u001b[K\rremote: Counting objects:  60% (12/20)\u001b[K\rremote: Counting objects:  65% (13/20)\u001b[K\rremote: Counting objects:  70% (14/20)\u001b[K\rremote: Counting objects:  75% (15/20)\u001b[K\rremote: Counting objects:  80% (16/20)\u001b[K\rremote: Counting objects:  85% (17/20)\u001b[K\rremote: Counting objects:  90% (18/20)\u001b[K\rremote: Counting objects:  95% (19/20)\u001b[K\rremote: Counting objects: 100% (20/20)\u001b[K\rremote: Counting objects: 100% (20/20), done.\u001b[K\n",
            "remote: Compressing objects:   5% (1/18)\u001b[K\rremote: Compressing objects:  11% (2/18)\u001b[K\rremote: Compressing objects:  16% (3/18)\u001b[K\rremote: Compressing objects:  22% (4/18)\u001b[K\rremote: Compressing objects:  27% (5/18)\u001b[K\rremote: Compressing objects:  33% (6/18)\u001b[K\rremote: Compressing objects:  38% (7/18)\u001b[K\rremote: Compressing objects:  44% (8/18)\u001b[K\rremote: Compressing objects:  50% (9/18)\u001b[K\rremote: Compressing objects:  55% (10/18)\u001b[K\rremote: Compressing objects:  61% (11/18)\u001b[K\rremote: Compressing objects:  66% (12/18)\u001b[K\rremote: Compressing objects:  72% (13/18)\u001b[K\rremote: Compressing objects:  77% (14/18)\u001b[K\rremote: Compressing objects:  83% (15/18)\u001b[K\rremote: Compressing objects:  88% (16/18)\u001b[K\rremote: Compressing objects:  94% (17/18)\u001b[K\rremote: Compressing objects: 100% (18/18)\u001b[K\rremote: Compressing objects: 100% (18/18), done.\u001b[K\n",
            "remote: Total 20 (delta 5), reused 0 (delta 0), pack-reused 0\u001b[K\n",
            "Unpacking objects:   5% (1/20)   \rUnpacking objects:  10% (2/20)   \rUnpacking objects:  15% (3/20)   \rUnpacking objects:  20% (4/20)   \rUnpacking objects:  25% (5/20)   \rUnpacking objects:  30% (6/20)   \rUnpacking objects:  35% (7/20)   \rUnpacking objects:  40% (8/20)   \rUnpacking objects:  45% (9/20)   \rUnpacking objects:  50% (10/20)   \rUnpacking objects:  55% (11/20)   \rUnpacking objects:  60% (12/20)   \rUnpacking objects:  65% (13/20)   \rUnpacking objects:  70% (14/20)   \rUnpacking objects:  75% (15/20)   \rUnpacking objects:  80% (16/20)   \rUnpacking objects:  85% (17/20)   \rUnpacking objects:  90% (18/20)   \rUnpacking objects:  95% (19/20)   \rUnpacking objects: 100% (20/20)   \rUnpacking objects: 100% (20/20), done.\n",
            "/content/Raianars_July_2020/ANN_read_matrix/Raianars_July_2020/ANN_read_matrix/Raianars_July_2020/ANN_read_matrix\n"
          ],
          "name": "stdout"
        }
      ]
    },
    {
      "cell_type": "code",
      "metadata": {
        "id": "N2lyPfivzwGv",
        "colab_type": "code",
        "colab": {
          "base_uri": "https://localhost:8080/",
          "height": 306
        },
        "outputId": "a0c19d63-f30a-4b68-96e3-047f89b3797d"
      },
      "source": [
        "ANN_F=pd.read_csv('ANN_INSIGHT_Valor_F.csv')\n",
        "ANN_CR=pd.read_csv('ANN_INSIGHT_CR.csv')\n",
        "syn0_F,syn1_F,X_max_F,X_min_F=Go2Ann.GetMatriz(ANN_F)\n",
        "syn0_CR,syn1_CR,X_max_CR,X_min_CR=Go2Ann.GetMatriz(ANN_CR)\n",
        "fields = ['DI RELATIVO','FRAC Its','Fo','CRo']\n",
        "\n",
        "#TOTAL=7*dim*its*ITE\n",
        "TOTAL=10*dim*its*ITE\n",
        "TOTAL=int(TOTAL/2)   # CONFERIR SE ESTE EH O MELHOR LUGAR\n",
        "\n",
        "dimensions=len(MAX)\n",
        "start_time = time.time() #INICIALIZA CONTAGEM DO TEMPO\n",
        "\n",
        "MAX_P=np.zeros(ITE) # ATENCAO para variar F e Cr MAX_P passa a ser 3 vezes maior\n",
        "MIN_P=np.zeros(ITE) # ATENCAO para variar F e Cr MIN_P passa a ser 3 vezes maior\n",
        "\n",
        "for i in range(dim):\n",
        "  MAX_P[i]=MAX[i] \n",
        "  MIN_P[i]=MIN[i]\n",
        "\n",
        "rodadas=1\n",
        "for i in range(rodadas):\n",
        "  SOMA=0\n",
        "  pop = np.random.rand(NPAR, dimensions)\n",
        "  diff=np.zeros(PAR)\n",
        "  for ii in range(PAR):\n",
        "    diff[ii] = MAX[ii]-MIN[ii]\n",
        "  X = MIN + pop * diff\n",
        "    \n",
        "  PONTOS=ITE # DIVISOES DA POPULACAO\n",
        "start_time = time.time()\n",
        "BEST_AGENTS=[]\n",
        "MAT_stat=[]\n",
        "for i in range(RUNS):\n",
        "    MAT=[] \n",
        "    mut=Fi\n",
        "    crossp=CRi\n",
        "    SOMA=0\n",
        "    SOMAf=0\n",
        "    start_ite = time.time()\n",
        "    delta_time=(start_ite-start_time)/60\n",
        "    #print('ite=',i,'total=50','time=',delta_time)\n",
        "    pop = np.random.rand(NPAR, dim)\n",
        "    diff=np.zeros(PAR)\n",
        "    for ii in range(PAR):\n",
        "      diff[ii] = MAX[ii]-MIN[ii]\n",
        "    X = MIN + pop * diff\n",
        "    Xf = MIN + pop * diff\n",
        "    \n",
        "    DIo=1e99\n",
        "  \n",
        "    CRo=crossp;Fo=mut;\n",
        "    Fitness = np.asarray([Fun(ind) for ind in X])\n",
        "\n",
        "    XY,BEST_XY,BESTo,FOBESTo=AvaliaX(X,Fitness)\n",
        "    nrow,ncol=X.shape\n",
        "\n",
        "    QUANT=17;MAT_INDo=np.zeros((1,QUANT)); # quantos indices esta fazendo\n",
        "    MAT_INDo[0,5]=nrow  # VALOR NP\n",
        "    MAT_INDo[0,6]=Fo    # VALOR Fo   \n",
        "    MAT_INDo[0,7]=CRo   # VALOR CRo\n",
        "  \n",
        "    MAT_INDo=GeraIndices(X,BESTo,FOBESTo,DIo,MAT_INDo,SOMA,TOTAL,syn0_F,\n",
        "                        syn1_F,X_max_F,X_min_F,syn0_CR,syn1_CR,X_max_CR,\n",
        "                        X_min_CR,Fc,fields,Fun)\n",
        "  \n",
        "    DIo=np.copy(MAT_INDo[0,0])\n",
        "    MAT_INDo[0,15]=Fo    # VALOR Fo   \n",
        "    MAT_INDo[0,16]=CRo   # VALOR CRo\n",
        "    #ind_crossp=ITE-1\n",
        "\n",
        "    \n",
        "    for k in range(ITE):\n",
        "      X,BEST,FOBEST,XY,BEST_XY,SOMA= de_soma_Insight.de(MAX,MIN, mut, crossp,NPAR,its,Fun,X,SOMA,TOTAL)\n",
        "      #Xf,BESTf,FOBESTf,XYf,BEST_XYf,SOMAf= de_soma_Insight.de(MAX,MIN, Fi, CRi, NPAR,its,Fun,Xf,SOMAf,TOTAL)\n",
        "\n",
        "      \n",
        "      MAT_IND=GeraIndices(X,BESTo,FOBESTo,DIo,MAT_INDo,SOMA,TOTAL,syn0_F,\n",
        "                          syn1_F,X_max_F,X_min_F,syn0_CR,syn1_CR,X_max_CR,\n",
        "                          X_min_CR,Fc,fields,Fun)\n",
        "    \n",
        "      BESTo=np.copy(BEST);FOBESTo=np.copy(FOBEST);\n",
        "      MAT.append(MAT_IND.ravel())\n",
        "    \n",
        "      MAT_INDo[0,6]=MAT_IND[0,15]   # VALOR Fo   \n",
        "      MAT_INDo[0,7]=MAT_IND[0,16]   # VALOR CRo\n",
        "      mut=MAT_IND[0,15]\n",
        "      crossp=MAT_IND[0,16]\n",
        "\n",
        "      Fitness = np.asarray([Fun(ind) for ind in X])\n",
        "      #Fitnessf = np.asarray([Fun(ind) for ind in Xf])\n",
        "      Maior=np.argmax(Fitness)\n",
        "      #Maiorf=np.argmax(Fitnessf)\n",
        "      Menor=np.argmin(Fitness)\n",
        "      #Menorf=np.argmin(Fitnessf)\n",
        "\n",
        "      #X[Maior,:]=np.copy(Xf[Menorf,:])\n",
        "      #Xf[Maiorf,:]=np.copy(X[Menor,:])\n",
        "      \n",
        "    BEST_AGENTS.append(BEST_XY)\n",
        "    MAT_stat.append(MAT)\n",
        "    #print(\"GlobalParam e Solucao:\", BEST,\"Funcao=\",FOBEST)\n",
        "    \n",
        "############################## Cálculo dos Parâmetros de Avaliação   \n",
        "TIME = (time.time() - start_time)/RUNS\n",
        "BEST_AGENTS=np.array(BEST_AGENTS)\n",
        "BEST_AGENTS_ST= BEST_AGENTS[BEST_AGENTS[:,-1].argsort()]\n",
        "BEST=BEST_AGENTS_ST[0]\n",
        "WORSE=BEST_AGENTS_ST[-1]\n",
        "MEAN=np.mean(BEST_AGENTS,axis=0)\n",
        "MAXFO=BEST_AGENTS[:,-1].max()\n",
        "MINFO=BEST_AGENTS[:,-1].min()\n",
        "STD=BEST_AGENTS[:,-1].std()\n",
        "\n",
        "nome='_ANN_Div3x4_Fo-'+str(Fi)+'_CRo-'+str(CRi)+'_D-'+str(dim)+'_Interv-'+str(ITE)\n",
        "print('DE_POP_VAR_F_CR','TOTAL=',TOTAL,'Iterações=',ITE*its,'Dim=', PAR,\"Min/Max=\",MIN[0],\"/\",MAX[0],'_',Fun.__name__)\n",
        "print(nome, '\\n')\n",
        "print('MÉDIA: ',MEAN[-1])\n",
        "print('MIN __:',MINFO)\n",
        "print('MAX__: ',MAXFO)\n",
        "print('STD __:',STD)\n",
        "print(\"Tempo Médio= %.3f segundos ---\" % (TIME))\n",
        "print(RUNS,'Rodadas') \n",
        "print()\n",
        "print('BEST: ',BEST)"
      ],
      "execution_count": 45,
      "outputs": [
        {
          "output_type": "stream",
          "text": [
            "/content/Raianars_July_2020/GeraIndices.py:57: RuntimeWarning: invalid value encountered in double_scalars\n",
            "  if abs(MAT_IND[0,8]/MAT_IND[0,8])>1:\n",
            "/content/Raianars_July_2020/GeraIndices.py:60: RuntimeWarning: invalid value encountered in double_scalars\n",
            "  MAT_IND[0,10]=MAT_IND[0,8]/MAT_IND[0,8]\n"
          ],
          "name": "stderr"
        },
        {
          "output_type": "stream",
          "text": [
            "DE_POP_VAR_F_CR TOTAL= 50000 Iterações= 1000 Dim= 10 Min/Max= -5.12 / 5.12 _ Rastrigin\n",
            "_ANN_Div3x4_Fo-0.5_CRo-0.5_D-10_Interv-1000 \n",
            "\n",
            "MÉDIA:  0.0\n",
            "MIN __: 0.0\n",
            "MAX__:  0.0\n",
            "STD __: 0.0\n",
            "Tempo Médio= 42.424 segundos ---\n",
            "5 Rodadas\n",
            "\n",
            "BEST:  [ 3.10131499e-10  3.57944421e-09  9.17558890e-10  4.66625566e-09\n",
            " -1.81864085e-09  4.66532613e-09 -2.59811921e-09  5.08533399e-09\n",
            "  9.18050559e-10 -1.05360363e-09  0.00000000e+00]\n"
          ],
          "name": "stdout"
        }
      ]
    }
  ]
}